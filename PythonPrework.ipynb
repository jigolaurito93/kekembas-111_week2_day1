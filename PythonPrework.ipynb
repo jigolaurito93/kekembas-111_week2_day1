{
 "cells": [
  {
   "cell_type": "markdown",
   "id": "35c9d42f",
   "metadata": {},
   "source": [
    "# Python Prework\n",
    "#### Question 1\n",
    "###### Write a function to print \"hello_USERNAME!\" USERNAME is the input of the function. The first line of the code has been defined as below."
   ]
  },
  {
   "cell_type": "code",
   "execution_count": 9,
   "id": "0351ff79",
   "metadata": {},
   "outputs": [
    {
     "name": "stdout",
     "output_type": "stream",
     "text": [
      "hello_Jose!\n"
     ]
    }
   ],
   "source": [
    "def hello_name(user_name):\n",
    "    print(\"hello_\" + user_name + \"!\")\n",
    "\n",
    "hello_name('Jose')"
   ]
  },
  {
   "cell_type": "code",
   "execution_count": null,
   "id": "04dfee3c",
   "metadata": {},
   "outputs": [],
   "source": []
  }
 ],
 "metadata": {
  "kernelspec": {
   "display_name": "Python 3 (ipykernel)",
   "language": "python",
   "name": "python3"
  },
  "language_info": {
   "codemirror_mode": {
    "name": "ipython",
    "version": 3
   },
   "file_extension": ".py",
   "mimetype": "text/x-python",
   "name": "python",
   "nbconvert_exporter": "python",
   "pygments_lexer": "ipython3",
   "version": "3.9.13"
  }
 },
 "nbformat": 4,
 "nbformat_minor": 5
}
